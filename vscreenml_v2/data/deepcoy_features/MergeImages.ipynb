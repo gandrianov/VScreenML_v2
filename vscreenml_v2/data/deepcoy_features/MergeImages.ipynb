{
 "cells": [
  {
   "cell_type": "code",
   "execution_count": 16,
   "id": "a9e3688b",
   "metadata": {},
   "outputs": [],
   "source": [
    "from PIL import Image"
   ]
  },
  {
   "cell_type": "code",
   "execution_count": 17,
   "id": "8d7204b7",
   "metadata": {},
   "outputs": [],
   "source": [
    "fig_a  = Image.open(\"HistPredictions.png\")\n",
    "fig_b  = Image.open(\"HistErrors.png\")\n",
    "fig_c  = Image.open(\"AUC.png\")\n",
    "fig_d  = Image.open(\"AUCPR.png\")\n",
    "fig_e1 = Image.open(\"TanimotoCombo.png\")\n",
    "fig_e2 = Image.open(\"ShapeTanimoto.png\")\n",
    "fig_e3 = Image.open(\"ColorTanimoto.png\")\n",
    "fig_e4 = Image.open(\"MCSTanimoto.png\")\n",
    "fig_f  = Image.open(\"FeatureImportance.png\")\n",
    "\n",
    "figure = Image.new('RGB', (3000, 2250), color=(255,255,255,0))\n",
    "figure.paste(fig_a, (0,0))\n",
    "figure.paste(fig_b, (750,0))\n",
    "figure.paste(fig_c, (1500,0))\n",
    "figure.paste(fig_d, (2250,0))\n",
    "\n",
    "figure.paste(fig_e1, (0,750))\n",
    "figure.paste(fig_e2, (750,750))\n",
    "figure.paste(fig_e3, (1500,750))\n",
    "figure.paste(fig_e4, (2250,750))\n",
    "\n",
    "figure.paste(fig_f, (0,1500))\n",
    "\n",
    "figure.save('DEEPCOY.jpg')\n"
   ]
  },
  {
   "cell_type": "code",
   "execution_count": null,
   "id": "19b51cdd",
   "metadata": {},
   "outputs": [],
   "source": []
  }
 ],
 "metadata": {
  "kernelspec": {
   "display_name": "Python 3 (ipykernel)",
   "language": "python",
   "name": "python3"
  },
  "language_info": {
   "codemirror_mode": {
    "name": "ipython",
    "version": 3
   },
   "file_extension": ".py",
   "mimetype": "text/x-python",
   "name": "python",
   "nbconvert_exporter": "python",
   "pygments_lexer": "ipython3",
   "version": "3.7.11"
  }
 },
 "nbformat": 4,
 "nbformat_minor": 5
}
